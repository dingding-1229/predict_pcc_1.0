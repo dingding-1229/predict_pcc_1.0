{
 "cells": [
  {
   "cell_type": "code",
   "execution_count": null,
   "id": "94f2a00e",
   "metadata": {},
   "outputs": [],
   "source": [
    "# 并行计算相似性\n",
    "\n",
    "import sim_calc\n",
    "sim_calc.main()\n",
    "\n",
    "# 输出看cmd"
   ]
  },
  {
   "cell_type": "code",
   "execution_count": 1,
   "id": "53e1f729",
   "metadata": {},
   "outputs": [],
   "source": [
    "# 并行创建网络、计算参数、画图\n",
    "\n",
    "import calc_draw\n",
    "calc_draw.main()\n",
    "\n",
    "# 输出看cmd"
   ]
  }
 ],
 "metadata": {
  "kernelspec": {
   "display_name": "Python 3 (ipykernel)",
   "language": "python",
   "name": "python3"
  },
  "language_info": {
   "codemirror_mode": {
    "name": "ipython",
    "version": 3
   },
   "file_extension": ".py",
   "mimetype": "text/x-python",
   "name": "python",
   "nbconvert_exporter": "python",
   "pygments_lexer": "ipython3",
   "version": "3.10.11"
  }
 },
 "nbformat": 4,
 "nbformat_minor": 5
}
