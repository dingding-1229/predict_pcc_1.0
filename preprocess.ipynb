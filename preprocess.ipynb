{
 "cells": [
  {
   "cell_type": "code",
   "execution_count": null,
   "id": "e0236e11",
   "metadata": {},
   "outputs": [],
   "source": [
    "import os\n",
    "import pandas as pd\n",
    "from rdkit import Chem\n",
    "\n",
    "train_path='./source/train'\n",
    "valid1_path='./source/valid1'\n",
    "valid2_path='./source/valid2'"
   ]
  },
  {
   "cell_type": "code",
   "execution_count": null,
   "id": "94d5a23d",
   "metadata": {},
   "outputs": [],
   "source": [
    "# convert cas-smiles excel files to csv\n",
    "# excel_path is the path for cas-smiles excel raw files\n",
    "\n",
    "excel_path=''\n",
    "print('number of excel files: ',len(os.listdir(excel_path)))\n",
    "\n",
    "\n",
    "for i in os.listdir(excel_path):\n",
    "    if '.xlsx' in i:\n",
    "        read_file = pd.read_excel(excel_path+'/'+i)\n",
    "        newname=i.split('.')[0]+'.csv'\n",
    "        read_file.to_csv (excel_path+'/'+newname, index = False,header=True)\n",
    "        print(newname,read_file.shape[0])"
   ]
  },
  {
   "cell_type": "code",
   "execution_count": null,
   "id": "7aef3d2c",
   "metadata": {},
   "outputs": [],
   "source": [
    "# convert cas-smiles sdf files to csv\n",
    "# sdf_path is the path for cas-smiles sdf raw files\n",
    "\n",
    "\n",
    "sdf_path=''\n",
    "print('number of sdf files: ',len(os.listdir(sdf_path)))\n",
    "\n",
    "\n",
    "def split_file(file_path, delimiter):\n",
    "    with open(file_path, 'r') as file:\n",
    "        content = file.read()\n",
    "        lines = content.split(delimiter)\n",
    "        return lines\n",
    "\n",
    "\n",
    "for i in os.listdir(sdf_path):\n",
    "    cas_smiles=pd.DataFrame(columns=['CAS Registry Number','Canonical SMILES'])\n",
    "    with open(sdf_path+'/'+i, 'r') as file:\n",
    "        z=0\n",
    "        # z documents the number of CAS\n",
    "        for line in file:\n",
    "            if 'Copyright (C)' in line:\n",
    "                cas_smiles.loc[z,'CAS Registry Number']=line.split(' ')[0]\n",
    "                z+=1\n",
    "    single_sdf = split_file(sdf_path+'/'+i, '$$$$')\n",
    "    for ii in range(1,len(single_sdf)):\n",
    "        single_sdf[ii] = single_sdf[ii].removeprefix('\\n')\n",
    "    for ii in range(0,len(single_sdf)-1):\n",
    "        cas_smiles.loc[ii,'Canonical SMILES']=Chem.MolToSmiles(Chem.MolFromMolBlock(single_sdf[ii],sanitize=False))\n",
    "    \n",
    "    cas_smiles.to_csv(sdf_path+'/'+i.split('.')[0]+'.csv',sep=',',index=False)\n",
    "    \n",
    "    print(i,z)"
   ]
  },
  {
   "cell_type": "code",
   "execution_count": null,
   "id": "f777760d",
   "metadata": {
    "scrolled": false
   },
   "outputs": [],
   "source": [
    "# drop duplicates, drop wrong smiles, confirm key number in each file\n",
    "\n",
    "key_file=pd.read_excel('valid2.xlsx')\n",
    "\n",
    "for i in os.listdir(valid2_path):\n",
    "    df=pd.read_csv(valid2_path+'/'+i)\n",
    "    df.drop_duplicates()\n",
    "    smiles_list = df['Canonical SMILES'].tolist()\n",
    "    \n",
    "    Mols=[]\n",
    "    for ii in smiles_list:\n",
    "        try:\n",
    "            mol=Chem.MolFromSmiles(ii)\n",
    "        except:\n",
    "            mol=None\n",
    "        Mols.append(mol)\n",
    "    \n",
    "    df['Mol']=Mols\n",
    "    df = df.dropna(how='any',axis=0)\n",
    "    df = df.drop('Mol', axis=1)\n",
    "    df['key'] = 0\n",
    "    key_cas=key_file[key_file[\"Drug-Name\"]==i.split('.')[0]].iloc[0]['CAS']\n",
    "    df.loc[df[df[\"CAS Registry Number\"]==key_cas].index,'key'] = 1\n",
    "    print (i.split('.')[0],len(df[df[\"key\"]==1]))\n",
    "    df.to_csv (i,index = False,header=True)"
   ]
  }
 ],
 "metadata": {
  "kernelspec": {
   "display_name": "Python 3 (ipykernel)",
   "language": "python",
   "name": "python3"
  },
  "language_info": {
   "codemirror_mode": {
    "name": "ipython",
    "version": 3
   },
   "file_extension": ".py",
   "mimetype": "text/x-python",
   "name": "python",
   "nbconvert_exporter": "python",
   "pygments_lexer": "ipython3",
   "version": "3.10.11"
  }
 },
 "nbformat": 4,
 "nbformat_minor": 5
}
